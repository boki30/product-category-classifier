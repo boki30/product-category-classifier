{
 "cells": [
  {
   "cell_type": "markdown",
   "id": "a125649c",
   "metadata": {},
   "source": [
    "\n",
    "# E2E: Product Category Classification (TF‑IDF + LinearSVC)\n",
    "\n",
    "Ovaj notebook trenira i evaluira modele za klasifikaciju kategorija proizvoda na osnovu kolone \"Product Title\".\n",
    "Generiše izlaze u:\n",
    "- `reports/classification_report.txt`\n",
    "- `reports/confusion_matrix.png` (ograničeno do 50 najčešćih klasa ako ih ima previše)\n",
    "- `reports/confusion_matrix_top20.png`\n",
    "- `models/product_category_model.pkl` (najbolji model, ceo pipeline)\n"
   ]
  },
  {
   "cell_type": "code",
   "execution_count": 1,
   "id": "eaa61595",
   "metadata": {},
   "outputs": [],
   "source": [
    "\n",
    "import os\n",
    "import re\n",
    "import warnings\n",
    "import numpy as np\n",
    "import pandas as pd\n",
    "import scipy.sparse as sp\n",
    "import matplotlib.pyplot as plt\n",
    "import seaborn as sns\n",
    "\n",
    "from typing import List, Optional\n",
    "\n",
    "from sklearn.model_selection import train_test_split\n",
    "from sklearn.feature_extraction.text import TfidfVectorizer\n",
    "from sklearn.naive_bayes import ComplementNB\n",
    "from sklearn.svm import LinearSVC\n",
    "from sklearn.pipeline import Pipeline, FeatureUnion\n",
    "from sklearn.preprocessing import FunctionTransformer\n",
    "from sklearn.metrics import accuracy_score, classification_report, confusion_matrix\n",
    "from sklearn.base import BaseEstimator, TransformerMixin\n",
    "\n",
    "import joblib\n",
    "\n",
    "warnings.filterwarnings(\"ignore\")\n",
    "sns.set(style=\"whitegrid\")\n",
    "\n",
    "os.makedirs(\"reports\", exist_ok=True)\n",
    "os.makedirs(\"models\", exist_ok=True)\n"
   ]
  },
  {
   "cell_type": "code",
   "execution_count": 2,
   "id": "598d89bf",
   "metadata": {},
   "outputs": [
    {
     "name": "stdout",
     "output_type": "stream",
     "text": [
      "DATA_PATH = data/products.csv\n"
     ]
    }
   ],
   "source": [
    "\n",
    "# Konfiguracija\n",
    "DATA_PATH = \"data/products.csv\"  \n",
    "\n",
    "# Ako su nazivi kolona drugaciji, mozete ih ovde zadati rucno (npr. \"title\", \"category\")\n",
    "TEXT_COL = None   # npr. \"Product Title\"\n",
    "LABEL_COL = None  # npr. \"Category Label\"\n",
    "TEST_SIZE = 0.2\n",
    "RANDOM_STATE = 42\n",
    "\n",
    "print(f\"DATA_PATH = {DATA_PATH}\")\n"
   ]
  },
  {
   "cell_type": "code",
   "execution_count": 3,
   "id": "4e9940cf",
   "metadata": {},
   "outputs": [
    {
     "name": "stdout",
     "output_type": "stream",
     "text": [
      "Broj redova: 35311\n",
      "Kolone: ['product ID', 'Product Title', 'Merchant ID', ' Category Label', '_Product Code', 'Number_of_Views', 'Merchant Rating', ' Listing Date  ']\n",
      "TEXT_COL  = Product Title\n",
      "LABEL_COL =  Category Label\n"
     ]
    }
   ],
   "source": [
    "\n",
    "# Ucitavanje podataka\n",
    "df = pd.read_csv(DATA_PATH, low_memory=False)\n",
    "print(\"Broj redova:\", len(df))\n",
    "print(\"Kolone:\", list(df.columns))\n",
    "\n",
    "# Pomocne funkcije za robustno prepoznavanje kolona\n",
    "def norm_col(s: str) -> str:\n",
    "    return re.sub(r\"[^a-z0-9]+\", \"\", str(s).lower())\n",
    "\n",
    "def find_text_col(cands=None) -> Optional[str]:\n",
    "    if cands is None:\n",
    "        cands = [\"producttitle\", \"title\", \"productname\", \"name\"]\n",
    "    norm_map = {norm_col(c): c for c in df.columns}\n",
    "    for key in cands:\n",
    "        if key in norm_map:\n",
    "            return norm_map[key]\n",
    "    for k, orig in norm_map.items():\n",
    "        if \"title\" in k or re.search(r\"(^|[^a-z])name([^a-z]|$)\", k):\n",
    "            return orig\n",
    "    return None\n",
    "\n",
    "def find_label_col(cands=None) -> Optional[str]:\n",
    "    if cands is None:\n",
    "        cands = [\"categorylabel\", \"category\", \"label\"]\n",
    "    norm_map = {norm_col(c): c for c in df.columns}\n",
    "    for key in cands:\n",
    "        if key in norm_map:\n",
    "            return norm_map[key]\n",
    "    for k, orig in norm_map.items():\n",
    "        if \"category\" in k or \"label\" in k:\n",
    "            return orig\n",
    "    return None\n",
    "\n",
    "auto_text = find_text_col()\n",
    "auto_label = find_label_col()\n",
    "\n",
    "if TEXT_COL is None:\n",
    "    TEXT_COL = auto_text\n",
    "if LABEL_COL is None:\n",
    "    LABEL_COL = auto_label\n",
    "\n",
    "print(f\"TEXT_COL  = {TEXT_COL}\")\n",
    "print(f\"LABEL_COL = {LABEL_COL}\")\n",
    "assert TEXT_COL is not None and LABEL_COL is not None, \"Nisu pronadjene potrebne kolone. Podesite TEXT_COL i LABEL_COL u konfiguraciji.\"\n"
   ]
  },
  {
   "cell_type": "code",
   "execution_count": 4,
   "id": "9c22a429",
   "metadata": {
    "scrolled": true
   },
   "outputs": [
    {
     "name": "stdout",
     "output_type": "stream",
     "text": [
      "Obrisano redova (osnovno čišćenje): 4425; Zadržano: 30886\n",
      "\n",
      "Top 20 klasa po učestalosti (posle kanonikalizacije):\n",
      " Category Label\n",
      "Fridge Freezers     4809\n",
      "Mobile Phones       3669\n",
      "Washing Machines    3403\n",
      "TVs                 3275\n",
      "Fridges             3216\n",
      "CPUs                3070\n",
      "Dishwashers         3042\n",
      "Digital Cameras     2405\n",
      "Microwaves          2094\n",
      "Freezers            1903\n",
      "Name: count, dtype: int64\n"
     ]
    }
   ],
   "source": [
    "\n",
    " # Čišćenje i osnovna priprema + kanonikalizacija labela\n",
    "df = df[[TEXT_COL, LABEL_COL]].copy()\n",
    "\n",
    "before = len(df)\n",
    "df.dropna(subset=[TEXT_COL, LABEL_COL], inplace=True)\n",
    "df[TEXT_COL] = df[TEXT_COL].astype(str).str.strip()\n",
    "df[LABEL_COL] = df[LABEL_COL].astype(str).str.strip()\n",
    "df = df[(df[TEXT_COL] != \"\") & (df[LABEL_COL] != \"\")]\n",
    "df.drop_duplicates(subset=[TEXT_COL, LABEL_COL], inplace=True)\n",
    "after_basic = len(df)\n",
    "print(f\"Obrisano redova (osnovno čišćenje): {before - after_basic}; Zadržano: {after_basic}\")\n",
    "\n",
    "# Spajanje varijanti naziva klasa (singular/plural, mala/velika slova, sleng)\n",
    "label_map = {\n",
    "    'cpu': 'CPUs',\n",
    "    'cpus': 'CPUs',\n",
    "    'mobile phone': 'Mobile Phones',\n",
    "    'mobile phones': 'Mobile Phones',\n",
    "    'fridge': 'Fridges',\n",
    "    'fridges': 'Fridges',\n",
    "    'fridge freezer': 'Fridge Freezers',\n",
    "    'fridge freezers': 'Fridge Freezers',\n",
    "    'freezer': 'Freezers',\n",
    "    'freezers': 'Freezers',\n",
    "    'tv': 'TVs',\n",
    "    'tvs': 'TVs',\n",
    "    'digital camera': 'Digital Cameras',\n",
    "    'digital cameras': 'Digital Cameras',\n",
    "    'washing machine': 'Washing Machines',\n",
    "    'washing machines': 'Washing Machines',\n",
    "    'microwave': 'Microwaves',\n",
    "    'microwaves': 'Microwaves',\n",
    "    'dishwasher': 'Dishwashers',\n",
    "    'dishwashers': 'Dishwashers',\n",
    "}\n",
    "\n",
    "def canonicalize_label(x: str) -> str:\n",
    "    s = str(x).strip().lower()\n",
    "    return label_map.get(s, x)  # ako nije u mapi, ostavi original\n",
    "\n",
    "df[LABEL_COL] = df[LABEL_COL].apply(canonicalize_label)\n",
    "\n",
    "print(\"\\nTop 20 klasa po učestalosti (posle kanonikalizacije):\")\n",
    "print(df[LABEL_COL].value_counts().head(20))\n"
   ]
  },
  {
   "cell_type": "code",
   "execution_count": 5,
   "id": "3421f411",
   "metadata": {},
   "outputs": [],
   "source": [
    "\n",
    "# Numeričke karakteristike izdvojene iz naslova (non-negative, kompatibilno sa NB)\n",
    "def extract_numeric_features(texts: List[str]):\n",
    "    lens, ndigs, has_gb, has_inch, has_mp = [], [], [], [], []\n",
    "    gb_re   = re.compile(r'\\b(\\d+)\\s?gb\\b', re.I)\n",
    "    inch_re = re.compile(r'\\b(\\d+(?:\\.\\d+)?)\\s?(?:(?:inches|inch)\\b|[\"”″])', re.I)\n",
    "    mp_re   = re.compile(r'\\b(\\d+)\\s?mp\\b', re.I)\n",
    "    for t in texts:\n",
    "        s = str(t)\n",
    "        lens.append(len(s))\n",
    "        ndigs.append(sum(ch.isdigit() for ch in s))\n",
    "        has_gb.append(1 if gb_re.search(s) else 0)\n",
    "        has_inch.append(1 if inch_re.search(s) else 0)\n",
    "        has_mp.append(1 if mp_re.search(s) else 0)\n",
    "    M = np.vstack([lens, ndigs, has_gb, has_inch, has_mp]).T.astype(float)\n",
    "    return sp.csr_matrix(M)\n",
    "\n",
    "# Robustna varijanta bez lambda (pickle-friendly)\n",
    "class NumericFeatures(BaseEstimator, TransformerMixin):\n",
    "    def fit(self, X, y=None):\n",
    "        return self\n",
    "    def transform(self, X):\n",
    "        return extract_numeric_features(X)\n",
    "\n",
    "numeric_ft = NumericFeatures()\n",
    "\n",
    "tfidf = TfidfVectorizer(\n",
    "    ngram_range=(1, 2),\n",
    "    min_df=2,\n",
    "    max_df=0.9,\n",
    "    strip_accents='unicode',\n",
    "    lowercase=True,\n",
    ")\n",
    "\n",
    "feats = FeatureUnion([\n",
    "    (\"tfidf\", tfidf),\n",
    "    (\"num\", numeric_ft),\n",
    "])\n"
   ]
  },
  {
   "cell_type": "code",
   "execution_count": 6,
   "id": "6c814dcd",
   "metadata": {},
   "outputs": [
    {
     "name": "stdout",
     "output_type": "stream",
     "text": [
      "Treniram: LinearSVC...\n",
      "Accuracy (LinearSVC): 0.9535\n",
      "Treniram: ComplementNB...\n",
      "Accuracy (ComplementNB): 0.9550\n",
      "Najbolji model: ComplementNB (accuracy=0.9550)\n"
     ]
    }
   ],
   "source": [
    "\n",
    "    X = df[TEXT_COL].astype(str).values\n",
    "    y = df[LABEL_COL].astype(str).values\n",
    "\n",
    "    X_train, X_test, y_train, y_test = train_test_split(\n",
    "        X, y, test_size=TEST_SIZE, random_state=RANDOM_STATE, stratify=y\n",
    "    )\n",
    "\n",
    "    svc = LinearSVC(C=1.0, random_state=RANDOM_STATE)\n",
    "    nb = ComplementNB()\n",
    "\n",
    "    pipe_svc = Pipeline([\n",
    "        (\"feats\", feats),\n",
    "        (\"clf\", svc),\n",
    "    ])\n",
    "\n",
    "    pipe_nb = Pipeline([\n",
    "        (\"feats\", feats),\n",
    "        (\"clf\", nb),\n",
    "    ])\n",
    "\n",
    "    models = {\n",
    "        \"LinearSVC\": pipe_svc,\n",
    "        \"ComplementNB\": pipe_nb,\n",
    "    }\n",
    "\n",
    "    results = {}\n",
    "    for name, model in models.items():\n",
    "        print(f\"Treniram: {name}...\")\n",
    "        model.fit(X_train, y_train)\n",
    "        pred = model.predict(X_test)\n",
    "        acc = accuracy_score(y_test, pred)\n",
    "        print(f\"Accuracy ({name}): {acc:.4f}\")\n",
    "        results[name] = {\"model\": model, \"pred\": pred, \"acc\": acc}\n",
    "\n",
    "    best_name = max(results.keys(), key=lambda k: results[k][\"acc\"])\n",
    "    best_model = results[best_name][\"model\"]\n",
    "    y_pred = results[best_name][\"pred\"]\n",
    "    print(f\"Najbolji model: {best_name} (accuracy={results[best_name]['acc']:.4f})\")\n"
   ]
  },
  {
   "cell_type": "code",
   "execution_count": 7,
   "id": "7ea3d2f9",
   "metadata": {},
   "outputs": [
    {
     "name": "stdout",
     "output_type": "stream",
     "text": [
      "                  precision    recall  f1-score   support\n",
      "\n",
      "            CPUs     0.9808    1.0000    0.9903       614\n",
      " Digital Cameras     0.9917    0.9958    0.9938       481\n",
      "     Dishwashers     0.9390    0.9622    0.9504       608\n",
      "        Freezers     0.9782    0.8241    0.8946       381\n",
      " Fridge Freezers     0.8889    0.9480    0.9175       962\n",
      "         Fridges     0.9272    0.8523    0.8882       643\n",
      "      Microwaves     0.9878    0.9666    0.9771       419\n",
      "   Mobile Phones     0.9959    0.9891    0.9925       734\n",
      "             TVs     0.9819    0.9954    0.9886       655\n",
      "Washing Machines     0.9433    0.9765    0.9596       681\n",
      "\n",
      "        accuracy                         0.9550      6178\n",
      "       macro avg     0.9615    0.9510    0.9553      6178\n",
      "    weighted avg     0.9557    0.9550    0.9546      6178\n",
      "\n",
      "\n",
      "Sačuvani fajlovi:\n",
      " - reports/classification_report.txt\n",
      " - reports/confusion_matrix.png\n"
     ]
    }
   ],
   "source": [
    "\n",
    "from collections import Counter\n",
    "\n",
    "# Klasifikacioni izveštaj (samo .txt)\n",
    "report_text = classification_report(y_test, y_pred, digits=4)\n",
    "print(report_text)\n",
    "\n",
    "with open(\"reports/classification_report.txt\", \"w\", encoding=\"utf-8\") as f:\n",
    "    f.write(f\"Model: {best_name}\\n\\n\")\n",
    "    f.write(report_text)\n",
    "    f.write(\"\\n\")\n",
    "\n",
    "# Konfuziona matrica (samo jedna .png)\n",
    "counts = Counter(y_test)\n",
    "classes_by_support = [cls for cls, _ in counts.most_common()]\n",
    "\n",
    "def plot_cm(y_true, y_hat, classes_to_use, title, out_path, normalize=False):\n",
    "    labels = classes_to_use\n",
    "    cm = confusion_matrix(y_true, y_hat, labels=labels)\n",
    "    if normalize:\n",
    "        with np.errstate(all='ignore'):\n",
    "            cm = cm.astype('float') / cm.sum(axis=1, keepdims=True)\n",
    "            cm = np.nan_to_num(cm)\n",
    "    figsize = max(8, 0.35 * len(labels))\n",
    "    plt.figure(figsize=(figsize, figsize))\n",
    "    sns.heatmap(cm, annot=False, cmap=\"Blues\",\n",
    "                xticklabels=labels, yticklabels=labels,\n",
    "                fmt=\".2f\" if normalize else \"d\")\n",
    "    plt.title(f\"{title} - {best_name}\")\n",
    "    plt.xlabel(\"Predicted\")\n",
    "    plt.ylabel(\"True\")\n",
    "    plt.tight_layout()\n",
    "    plt.savefig(out_path, dpi=200)\n",
    "    plt.close()\n",
    "\n",
    "# Koristi sve klase; ako ih je previše, ograniči prikaz na Top 50 radi čitljivosti\n",
    "if len(classes_by_support) > 50:\n",
    "    use_classes = classes_by_support[:50]\n",
    "    title_full = f\"Confusion Matrix (Top 50 classes of {len(classes_by_support)})\"\n",
    "else:\n",
    "    use_classes = classes_by_support\n",
    "    title_full = f\"Confusion Matrix (All {len(use_classes)} classes)\"\n",
    "\n",
    "plot_cm(y_test, y_pred, use_classes, title_full, \"reports/confusion_matrix.png\", normalize=False)\n",
    "\n",
    "print(\"\\nSačuvani fajlovi:\")\n",
    "print(\" - reports/classification_report.txt\")\n",
    "print(\" - reports/confusion_matrix.png\")"
   ]
  },
  {
   "cell_type": "code",
   "execution_count": 8,
   "id": "e8aef28c",
   "metadata": {},
   "outputs": [
    {
     "name": "stdout",
     "output_type": "stream",
     "text": [
      "Model sacuvan u: models/product_category_model.pkl\n"
     ]
    }
   ],
   "source": [
    "\n",
    "best_model.fit(X, y)\n",
    "out_model_path = \"models/product_category_model.pkl\"\n",
    "joblib.dump(best_model, out_model_path)\n",
    "print(f\"Model sacuvan u: {out_model_path}\")\n"
   ]
  },
  {
   "cell_type": "code",
   "execution_count": 9,
   "id": "89efcc0b",
   "metadata": {},
   "outputs": [
    {
     "name": "stdout",
     "output_type": "stream",
     "text": [
      "apple iphone 8 plus 64gb space grey -> Mobile Phones\n",
      "samsung galaxy s21 ultra 128gb phantom black -> Mobile Phones\n",
      "dyson v12 cordless vacuum cleaner -> Fridge Freezers\n"
     ]
    }
   ],
   "source": [
    "\n",
    "demo_titles = [\n",
    "    \"apple iphone 8 plus 64gb space grey\",\n",
    "    \"samsung galaxy s21 ultra 128gb phantom black\",\n",
    "    \"dyson v12 cordless vacuum cleaner\"\n",
    "]\n",
    "\n",
    "preds = best_model.predict(demo_titles)\n",
    "for t, p in zip(demo_titles, preds):\n",
    "    print(f\"{t} -> {p}\")\n"
   ]
  },
  {
   "cell_type": "code",
   "execution_count": null,
   "id": "4e01018b-a512-49b3-8b68-21683b2b9f79",
   "metadata": {},
   "outputs": [],
   "source": []
  }
 ],
 "metadata": {
  "kernelspec": {
   "display_name": "Python 3 (ipykernel)",
   "language": "python",
   "name": "python3"
  },
  "language_info": {
   "codemirror_mode": {
    "name": "ipython",
    "version": 3
   },
   "file_extension": ".py",
   "mimetype": "text/x-python",
   "name": "python",
   "nbconvert_exporter": "python",
   "pygments_lexer": "ipython3",
   "version": "3.9.13"
  }
 },
 "nbformat": 4,
 "nbformat_minor": 5
}


